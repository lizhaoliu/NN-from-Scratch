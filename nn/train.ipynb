{
 "cells": [
  {
   "cell_type": "code",
   "execution_count": 3,
   "metadata": {
    "collapsed": false
   },
   "outputs": [],
   "source": [
    "import numpy as np\n",
    "import pandas as pd\n",
    "from sklearn import model_selection\n",
    "\n",
    "import neural_net"
   ]
  },
  {
   "cell_type": "code",
   "execution_count": 4,
   "metadata": {
    "collapsed": false
   },
   "outputs": [],
   "source": [
    "DATA_URL = 'http://archive.ics.uci.edu/ml/machine-learning-databases/iris/iris.data'\n",
    "\n",
    "df = pd.read_csv(DATA_URL, sep=',', header=None)\n",
    "one_hot = np.reshape(pd.Categorical(df[4]).codes, [-1, 1])\n",
    "# one_hot = pd.get_dummies(df[4])\n",
    "df = df.drop(4, axis=1)\n",
    "data = np.concatenate([df.values, one_hot], axis=1)\n",
    "np.random.shuffle(data)\n",
    "x, y = data[:, :-1], data[:, -1:]\n",
    "x_train, x_test, y_train, y_test = model_selection.train_test_split(x, y, train_size=0.75)"
   ]
  },
  {
   "cell_type": "code",
   "execution_count": 7,
   "metadata": {
    "collapsed": false
   },
   "outputs": [
    {
     "name": "stdout",
     "output_type": "stream",
     "text": [
      "loss: 975.6538\n",
      "loss: 3.7080\n",
      "loss: 2.2371\n",
      "loss: 2.0089\n",
      "loss: 1.9064\n",
      "loss: 1.8289\n",
      "loss: 1.7897\n",
      "loss: 1.7631\n",
      "loss: 1.7389\n",
      "loss: 1.7164\n",
      "loss: 1.6954\n",
      "loss: 1.6760\n",
      "loss: 1.6580\n",
      "loss: 1.6416\n",
      "loss: 1.6265\n",
      "loss: 1.6128\n",
      "loss: 1.6002\n",
      "loss: 1.5886\n",
      "loss: 1.5777\n",
      "loss: 1.5675\n",
      "loss: 1.5577\n",
      "loss: 1.5482\n",
      "loss: 1.5388\n",
      "loss: 1.5294\n",
      "loss: 1.5198\n",
      "loss: 1.5098\n",
      "loss: 1.4993\n",
      "loss: 1.4881\n",
      "loss: 1.4762\n",
      "loss: 1.4637\n",
      "loss: 1.4505\n",
      "loss: 1.4369\n",
      "loss: 1.4231\n",
      "loss: 1.4090\n",
      "loss: 1.3945\n",
      "loss: 1.3795\n",
      "loss: 1.3636\n",
      "loss: 1.3464\n",
      "loss: 1.3274\n",
      "loss: 1.3062\n",
      "loss: 1.2823\n",
      "loss: 1.2553\n",
      "loss: 1.2251\n",
      "loss: 1.1924\n",
      "loss: 1.1588\n",
      "loss: 1.2723\n",
      "loss: 1.2618\n",
      "loss: 1.2535\n",
      "loss: 1.2413\n",
      "loss: 1.2263\n",
      "loss: 1.2096\n",
      "loss: 1.1919\n",
      "loss: 1.1740\n",
      "loss: 1.1563\n",
      "loss: 1.1393\n",
      "loss: 1.1233\n",
      "loss: 1.1083\n",
      "loss: 1.0944\n",
      "loss: 1.0817\n",
      "loss: 1.0700\n",
      "loss: 1.0595\n",
      "loss: 1.0498\n",
      "loss: 1.0411\n",
      "loss: 1.0331\n",
      "loss: 1.0258\n",
      "loss: 1.0192\n",
      "loss: 1.0131\n",
      "loss: 1.0075\n",
      "loss: 1.0023\n",
      "loss: 0.9975\n",
      "loss: 0.9930\n",
      "loss: 0.9888\n",
      "loss: 0.9848\n",
      "loss: 0.9811\n",
      "loss: 0.9776\n",
      "loss: 0.9742\n",
      "loss: 0.9711\n",
      "loss: 0.9681\n",
      "loss: 0.9652\n",
      "loss: 0.9625\n",
      "loss: 0.9598\n",
      "loss: 0.9573\n",
      "loss: 0.9549\n",
      "loss: 0.9527\n",
      "loss: 0.9505\n",
      "loss: 0.9484\n",
      "loss: 0.9464\n",
      "loss: 0.9445\n",
      "loss: 0.9427\n",
      "loss: 0.9410\n",
      "loss: 0.9393\n",
      "loss: 0.9378\n",
      "loss: 0.9363\n",
      "loss: 0.9349\n",
      "loss: 0.9336\n",
      "loss: 0.9324\n",
      "loss: 0.9312\n",
      "loss: 0.9301\n",
      "loss: 0.9291\n",
      "loss: 0.9281\n"
     ]
    }
   ],
   "source": [
    "net = neural_net.NeuralNet([x_train.shape[-1], 6, 6, y_train.shape[-1]], activation_fn='softplus')\n",
    "for iter in range(100000):\n",
    "    loss = net.bp(x_train, y_train, 0.1)\n",
    "    if iter % 1000 == 0:\n",
    "        print('loss: {:.4f}'.format(loss))"
   ]
  },
  {
   "cell_type": "code",
   "execution_count": 15,
   "metadata": {
    "collapsed": false
   },
   "outputs": [
    {
     "data": {
      "text/plain": [
       "0.97368421052631582"
      ]
     },
     "execution_count": 15,
     "metadata": {},
     "output_type": "execute_result"
    }
   ],
   "source": [
    "y_ff = np.rint(net.ff(x_test))\n",
    "np.mean(y_ff == y_test)"
   ]
  }
 ],
 "metadata": {
  "kernelspec": {
   "display_name": "Python 3",
   "language": "python",
   "name": "python3"
  },
  "language_info": {
   "codemirror_mode": {
    "name": "ipython",
    "version": 3
   },
   "file_extension": ".py",
   "mimetype": "text/x-python",
   "name": "python",
   "nbconvert_exporter": "python",
   "pygments_lexer": "ipython3",
   "version": "3.5.2"
  }
 },
 "nbformat": 4,
 "nbformat_minor": 1
}
