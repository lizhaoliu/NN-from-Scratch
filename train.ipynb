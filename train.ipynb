{
 "cells": [
  {
   "cell_type": "code",
   "execution_count": 1,
   "metadata": {
    "collapsed": false
   },
   "outputs": [],
   "source": [
    "import numpy as np\n",
    "import pandas as pd\n",
    "from sklearn import model_selection\n",
    "\n",
    "import neural_net"
   ]
  },
  {
   "cell_type": "code",
   "execution_count": 2,
   "metadata": {
    "collapsed": false
   },
   "outputs": [],
   "source": [
    "DATA_URL = 'http://archive.ics.uci.edu/ml/machine-learning-databases/iris/iris.data'\n",
    "\n",
    "df = pd.read_csv(DATA_URL, sep=',', header=None)\n",
    "one_hot = np.reshape(pd.Categorical(df[4]).codes, [-1, 1])\n",
    "df = df.drop(4, axis=1)\n",
    "data = np.concatenate([df.values, one_hot], axis=1)\n",
    "np.random.shuffle(data)\n",
    "x, y = data[:, :-1], data[:, -1:]\n",
    "x_train, x_test, y_train, y_test = model_selection.train_test_split(x, y, train_size=0.75)"
   ]
  },
  {
   "cell_type": "code",
   "execution_count": 3,
   "metadata": {
    "collapsed": false
   },
   "outputs": [
    {
     "name": "stdout",
     "output_type": "stream",
     "text": [
      "loss: 71.5953\n",
      "loss: 81.7027\n",
      "loss: 2.7672\n",
      "loss: 2.7406\n",
      "loss: 2.7170\n",
      "loss: 2.6957\n",
      "loss: 2.6761\n",
      "loss: 2.6576\n",
      "loss: 2.6400\n",
      "loss: 2.6232\n",
      "loss: 2.6071\n",
      "loss: 2.5917\n",
      "loss: 2.5770\n",
      "loss: 2.5630\n",
      "loss: 2.5497\n",
      "loss: 2.5372\n",
      "loss: 2.5255\n",
      "loss: 2.5146\n",
      "loss: 2.5048\n",
      "loss: 2.4960\n",
      "loss: 2.4884\n",
      "loss: 2.4821\n",
      "loss: 2.4772\n",
      "loss: 2.4738\n",
      "loss: 2.4717\n",
      "loss: 2.4709\n",
      "loss: 2.4711\n",
      "loss: 2.4722\n",
      "loss: 2.4737\n",
      "loss: 2.4757\n",
      "loss: 2.4778\n",
      "loss: 2.4799\n",
      "loss: 2.4820\n",
      "loss: 2.4839\n",
      "loss: 2.4858\n",
      "loss: 2.4874\n",
      "loss: 2.4889\n",
      "loss: 2.4902\n",
      "loss: 2.4913\n",
      "loss: 2.4923\n",
      "loss: 2.4931\n",
      "loss: 2.4938\n",
      "loss: 2.4944\n",
      "loss: 2.4949\n",
      "loss: 2.4953\n",
      "loss: 2.4956\n",
      "loss: 2.4959\n",
      "loss: 2.4960\n",
      "loss: 2.4962\n",
      "loss: 2.4962\n",
      "loss: 2.4962\n",
      "loss: 2.4962\n",
      "loss: 2.4961\n",
      "loss: 2.4960\n",
      "loss: 2.4959\n",
      "loss: 2.4957\n",
      "loss: 2.4955\n",
      "loss: 2.4953\n",
      "loss: 2.4951\n",
      "loss: 2.4948\n",
      "loss: 2.4944\n",
      "loss: 2.4941\n",
      "loss: 2.4937\n",
      "loss: 2.4933\n",
      "loss: 2.4928\n",
      "loss: 2.4923\n",
      "loss: 2.4917\n",
      "loss: 2.4911\n",
      "loss: 2.4905\n",
      "loss: 2.4898\n",
      "loss: 2.4890\n",
      "loss: 2.4882\n",
      "loss: 2.4873\n",
      "loss: 2.4863\n",
      "loss: 2.4852\n",
      "loss: 2.4840\n",
      "loss: 2.4827\n",
      "loss: 2.4813\n",
      "loss: 2.4798\n",
      "loss: 2.4781\n",
      "loss: 2.4764\n",
      "loss: 2.4744\n",
      "loss: 2.4724\n",
      "loss: 2.4702\n",
      "loss: 2.4678\n",
      "loss: 2.4653\n",
      "loss: 2.4627\n",
      "loss: 2.4599\n",
      "loss: 2.4570\n",
      "loss: 2.4539\n",
      "loss: 2.4508\n",
      "loss: 2.4476\n",
      "loss: 2.4444\n",
      "loss: 2.4412\n",
      "loss: 2.4381\n",
      "loss: 2.4352\n",
      "loss: 2.4327\n",
      "loss: 2.4306\n",
      "loss: 2.4290\n",
      "loss: 2.4280\n"
     ]
    }
   ],
   "source": [
    "net = neural_net.NeuralNet([x_train.shape[-1], 6, 6, y_train.shape[-1]],\n",
    "                           activation_fn='softplus',\n",
    "                           weight_decay=0.01)\n",
    "for iter in range(100000):\n",
    "    loss = net.bp(x_train, y_train, 0.1)\n",
    "    if iter % 1000 == 0:\n",
    "        print('loss: {:.4f}'.format(loss))"
   ]
  },
  {
   "cell_type": "code",
   "execution_count": 7,
   "metadata": {
    "collapsed": false
   },
   "outputs": [
    {
     "name": "stdout",
     "output_type": "stream",
     "text": [
      "Accuracy on validation set: 0.9737\n"
     ]
    }
   ],
   "source": [
    "y_ff = np.rint(net.ff(x_test))\n",
    "accuracy = np.mean(y_ff == y_test)\n",
    "print('Accuracy on validation set: {:.4f}'.format(accuracy))"
   ]
  },
  {
   "cell_type": "code",
   "execution_count": null,
   "metadata": {
    "collapsed": true
   },
   "outputs": [],
   "source": [
    ""
   ]
  }
 ],
 "metadata": {
  "kernelspec": {
   "display_name": "Python 3",
   "language": "python",
   "name": "python3"
  },
  "language_info": {
   "codemirror_mode": {
    "name": "ipython",
    "version": 3.0
   },
   "file_extension": ".py",
   "mimetype": "text/x-python",
   "name": "python",
   "nbconvert_exporter": "python",
   "pygments_lexer": "ipython3",
   "version": "3.5.2"
  }
 },
 "nbformat": 4,
 "nbformat_minor": 0
}